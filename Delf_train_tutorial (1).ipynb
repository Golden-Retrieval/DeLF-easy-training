{
 "cells": [
  {
   "cell_type": "markdown",
   "metadata": {},
   "source": [
    "# Delf Train Tutorial\n",
    "\n",
    "By looking this you can grasp how to train on jupyter notebook."
   ]
  },
  {
   "cell_type": "code",
   "execution_count": 1,
   "metadata": {},
   "outputs": [
    {
     "name": "stdout",
     "output_type": "stream",
     "text": [
      "resnet_v1_50.ckpt download is completed\n"
     ]
    }
   ],
   "source": [
    "import tensorflow as tf\n",
    "import os \n",
    "os.environ['TF_CPP_MIN_LOG_LEVEL'] = '3'\n",
    "tf.logging.set_verbosity(tf.logging.ERROR)\n",
    "from delf_train import Config, DelfTrainerV1"
   ]
  },
  {
   "cell_type": "markdown",
   "metadata": {},
   "source": [
    "#### Make config object\n",
    "\n",
    "- data_path    :  dataset_path, your dataset_path should be divided by \"/train\", \"/test\" dataset.     \n",
    "    - data_path/train  \n",
    "        - /dog\n",
    "            - /img1\n",
    "            - /img2\n",
    "        - /mug\n",
    "        - /cat\n",
    "    - data_path/test   \n",
    "        - test_img1\n",
    "        - test_img2\n",
    "\n",
    "- train_step   :  \"resnet_finetune\" or \"att_learning\".   \n",
    "- save_name    :  check point file name to save.   \n",
    "- nb_epoch     :  number of total epoch.  \n",
    "- fc_epoch     :  when finetune resnet, fully connected layer learning epoch. Usually 10 epoch is enough. \n",
    "- restore_file :  restore checkpoint file path.   \n",
    "- ckpt_type    :  \"resnet_ckpt\" or \"attention_ckpt\". This value manage variable which will be loaded from restore_file.   "
   ]
  },
  {
   "cell_type": "markdown",
   "metadata": {},
   "source": [
    "#### finetune config"
   ]
  },
  {
   "cell_type": "code",
   "execution_count": 2,
   "metadata": {},
   "outputs": [],
   "source": [
    "ft_config = Config()\n",
    "ft_config.data_path = \"/home/soma03/data/paris\"\n",
    "ft_config.train_step = \"resnet_finetune\"\n",
    "#config.train_step = \"att_learning\"\n",
    "ft_config.save_name = 'local_ckpt/ft'\n",
    "ft_config.restore_file = 'resnet_v1_50.ckpt'\n",
    "ft_config.fc_learning_rate = 0.0001\n",
    "ft_config.nb_epoch = 3\n",
    "ft_config.fc_epoch = 2\n",
    "ft_config.ckpt_type = 'resnet_ckpt'\n",
    "#config.ckpt_type = 'attention_ckpt'"
   ]
  },
  {
   "cell_type": "code",
   "execution_count": 3,
   "metadata": {},
   "outputs": [
    {
     "name": "stdout",
     "output_type": "stream",
     "text": [
      "[ check_train_dataset ] function : 0.001 s\n",
      "[ check_infer_dataset ] function : 0.001 s\n",
      "[ _label_to_int ] function : 0.000 s\n",
      "[ load_dataset ] function : 0.014 s\n",
      "[ number of file names ] = 6392\n",
      "[ classes ] = 12\n",
      "[ _parse_function ] function : 0.004 s\n",
      "[ _parse_function ] function : 0.003 s\n",
      "[ build_resnet ] function : 1.617 s\n",
      "=== weights loaded === \n"
     ]
    }
   ],
   "source": [
    "trainer = DelfTrainerV1(ft_config)"
   ]
  },
  {
   "cell_type": "code",
   "execution_count": 4,
   "metadata": {},
   "outputs": [
    {
     "name": "stdout",
     "output_type": "stream",
     "text": [
      "= batches =: 89\n",
      "Starting epoch 1 / 3\n",
      "0/89 batch_acc : 0.078125, batch_loss : 3.058543\n",
      "10/89 batch_acc : 0.078125, batch_loss : 2.752277\n",
      "20/89 batch_acc : 0.140625, batch_loss : 2.569234\n",
      "30/89 batch_acc : 0.234375, batch_loss : 2.412732\n",
      "40/89 batch_acc : 0.500000, batch_loss : 2.158345\n",
      "50/89 batch_acc : 0.390625, batch_loss : 2.243457\n",
      "60/89 batch_acc : 0.468750, batch_loss : 2.146315\n",
      "70/89 batch_acc : 0.406250, batch_loss : 2.004700\n",
      "80/89 batch_acc : 0.453125, batch_loss : 1.990900\n",
      "================================================================================\n",
      "epoch: 1, train_loss: 2.296337, train_acc: 0.337079, val_acc: 0.517188\n",
      "================================================================================\n",
      "Training time for one epoch : 16.1\n",
      "Starting epoch 2 / 3\n",
      "0/89 batch_acc : 0.500000, batch_loss : 1.881639\n",
      "10/89 batch_acc : 0.593750, batch_loss : 1.695434\n",
      "20/89 batch_acc : 0.531250, batch_loss : 1.783291\n",
      "30/89 batch_acc : 0.609375, batch_loss : 1.742352\n",
      "40/89 batch_acc : 0.625000, batch_loss : 1.761551\n",
      "50/89 batch_acc : 0.578125, batch_loss : 1.671657\n",
      "60/89 batch_acc : 0.578125, batch_loss : 1.649040\n",
      "70/89 batch_acc : 0.578125, batch_loss : 1.608689\n",
      "80/89 batch_acc : 0.546875, batch_loss : 1.726297\n",
      "================================================================================\n",
      "epoch: 2, train_loss: 1.718777, train_acc: 0.567065, val_acc: 0.598437\n",
      "================================================================================\n",
      "Training time for one epoch : 14.5\n",
      "Starting epoch 3 / 3\n",
      "0/89 batch_acc : 0.656250, batch_loss : 1.512862\n",
      "10/89 batch_acc : 0.578125, batch_loss : 1.593863\n",
      "20/89 batch_acc : 0.625000, batch_loss : 1.343363\n",
      "30/89 batch_acc : 0.718750, batch_loss : 1.264935\n",
      "40/89 batch_acc : 0.671875, batch_loss : 1.358470\n",
      "50/89 batch_acc : 0.781250, batch_loss : 1.021791\n",
      "60/89 batch_acc : 0.703125, batch_loss : 1.153914\n",
      "70/89 batch_acc : 0.812500, batch_loss : 1.009020\n",
      "80/89 batch_acc : 0.843750, batch_loss : 0.869159\n",
      "================================================================================\n",
      "epoch: 3, train_loss: 1.242534, train_acc: 0.693294, val_acc: 0.720313\n",
      "================================================================================\n",
      "Training time for one epoch : 36.3\n",
      "\n",
      "Total training time : 71.8\n"
     ]
    }
   ],
   "source": [
    "trainer.run()"
   ]
  },
  {
   "cell_type": "markdown",
   "metadata": {},
   "source": [
    "#### frequent Error\n",
    "If you have Error message Like   \n",
    "\"InvalidArgumentError: Expected image (JPEG, PNG, or GIF), got unknown format starting with '<!DOCTYPE HTML P'\"    \n",
    "This usually means there is a trash img file in your data_path directory.   \n",
    "So I can offer a command that find and remove it.   \n",
    "\n",
    "\n",
    "```bash\n",
    "# in your data_path directory type this.\n",
    "find ./ -type f -size -20 -exec rm {} \\;\n",
    "```"
   ]
  },
  {
   "cell_type": "code",
   "execution_count": 5,
   "metadata": {},
   "outputs": [],
   "source": [
    "tf.reset_default_graph()"
   ]
  },
  {
   "cell_type": "markdown",
   "metadata": {},
   "source": [
    "#### set attention config"
   ]
  },
  {
   "cell_type": "code",
   "execution_count": 6,
   "metadata": {},
   "outputs": [],
   "source": [
    "att_config = Config()\n",
    "att_config.data_path = \"/home/soma03/data/paris\"\n",
    "# att_config.train_step = \"resnet_finetune\"\n",
    "att_config.train_step = \"att_learning\"\n",
    "att_config.save_name = 'local_ckpt/att'\n",
    "att_config.restore_file = 'local_ckpt/ft_3'\n",
    "ft_config.att_learning_rate = 0.0001\n",
    "att_config.nb_epoch = 5\n",
    "att_config.ckpt_type = 'resnet_ckpt'\n",
    "# ft_config.ckpt_type = 'attention_ckpt'"
   ]
  },
  {
   "cell_type": "code",
   "execution_count": 7,
   "metadata": {},
   "outputs": [
    {
     "name": "stdout",
     "output_type": "stream",
     "text": [
      "[ check_train_dataset ] function : 0.001 s\n",
      "[ check_infer_dataset ] function : 0.001 s\n",
      "[ _label_to_int ] function : 0.001 s\n",
      "[ load_dataset ] function : 0.024 s\n",
      "[ number of file names ] = 6392\n",
      "[ classes ] = 12\n",
      "[ _parse_function ] function : 0.005 s\n",
      "[ _parse_function ] function : 0.004 s\n",
      "[ build_attention ] function : 1.331 s\n",
      "=== weights loaded === \n"
     ]
    }
   ],
   "source": [
    "att_trainer = DelfTrainerV1(att_config)"
   ]
  },
  {
   "cell_type": "code",
   "execution_count": 8,
   "metadata": {},
   "outputs": [
    {
     "name": "stdout",
     "output_type": "stream",
     "text": [
      "= batches =: 89\n",
      "Starting epoch 1 / 5\n",
      "0/89 batch_acc : 0.062500, batch_loss : 2.690763\n",
      "10/89 batch_acc : 0.093750, batch_loss : 2.681996\n",
      "20/89 batch_acc : 0.125000, batch_loss : 2.673540\n",
      "30/89 batch_acc : 0.187500, batch_loss : 2.654790\n",
      "40/89 batch_acc : 0.218750, batch_loss : 2.583465\n",
      "50/89 batch_acc : 0.156250, batch_loss : 2.566812\n",
      "60/89 batch_acc : 0.140625, batch_loss : 2.521439\n",
      "70/89 batch_acc : 0.140625, batch_loss : 2.482640\n",
      "80/89 batch_acc : 0.109375, batch_loss : 2.495832\n",
      "================================================================================\n",
      "epoch: 1, train_loss: 2.585510, train_acc: 0.162746, val_acc: 0.181250\n",
      "================================================================================\n",
      "Training time for one epoch : 14.6\n",
      "Starting epoch 2 / 5\n",
      "0/89 batch_acc : 0.187500, batch_loss : 2.389693\n",
      "10/89 batch_acc : 0.234375, batch_loss : 2.357510\n",
      "20/89 batch_acc : 0.406250, batch_loss : 2.254015\n",
      "30/89 batch_acc : 0.281250, batch_loss : 2.327265\n",
      "40/89 batch_acc : 0.250000, batch_loss : 2.322549\n",
      "50/89 batch_acc : 0.281250, batch_loss : 2.422411\n",
      "60/89 batch_acc : 0.328125, batch_loss : 2.300453\n",
      "70/89 batch_acc : 0.328125, batch_loss : 2.362855\n",
      "80/89 batch_acc : 0.390625, batch_loss : 2.215537\n",
      "================================================================================\n",
      "epoch: 2, train_loss: 2.334246, train_acc: 0.290555, val_acc: 0.326562\n",
      "================================================================================\n",
      "Training time for one epoch : 13.7\n",
      "Starting epoch 3 / 5\n",
      "0/89 batch_acc : 0.312500, batch_loss : 2.201874\n",
      "10/89 batch_acc : 0.343750, batch_loss : 2.239987\n",
      "20/89 batch_acc : 0.359375, batch_loss : 2.198124\n",
      "30/89 batch_acc : 0.390625, batch_loss : 2.213592\n",
      "40/89 batch_acc : 0.359375, batch_loss : 2.236821\n",
      "50/89 batch_acc : 0.375000, batch_loss : 2.083942\n",
      "60/89 batch_acc : 0.468750, batch_loss : 1.969053\n",
      "70/89 batch_acc : 0.453125, batch_loss : 2.011149\n",
      "80/89 batch_acc : 0.375000, batch_loss : 2.147743\n",
      "================================================================================\n",
      "epoch: 3, train_loss: 2.156438, train_acc: 0.396419, val_acc: 0.439063\n",
      "================================================================================\n",
      "Training time for one epoch : 13.7\n",
      "Starting epoch 4 / 5\n",
      "0/89 batch_acc : 0.343750, batch_loss : 2.319765\n",
      "10/89 batch_acc : 0.484375, batch_loss : 1.984600\n",
      "20/89 batch_acc : 0.468750, batch_loss : 1.976134\n",
      "30/89 batch_acc : 0.593750, batch_loss : 1.927686\n",
      "40/89 batch_acc : 0.296875, batch_loss : 2.116061\n",
      "50/89 batch_acc : 0.437500, batch_loss : 2.092885\n",
      "60/89 batch_acc : 0.562500, batch_loss : 1.866267\n",
      "70/89 batch_acc : 0.531250, batch_loss : 1.835828\n",
      "80/89 batch_acc : 0.500000, batch_loss : 1.840853\n",
      "================================================================================\n",
      "epoch: 4, train_loss: 1.990735, train_acc: 0.468574, val_acc: 0.487500\n",
      "================================================================================\n",
      "Training time for one epoch : 13.7\n",
      "Starting epoch 5 / 5\n",
      "0/89 batch_acc : 0.484375, batch_loss : 1.992852\n",
      "10/89 batch_acc : 0.375000, batch_loss : 1.950072\n",
      "20/89 batch_acc : 0.484375, batch_loss : 1.799743\n",
      "30/89 batch_acc : 0.593750, batch_loss : 1.700100\n",
      "40/89 batch_acc : 0.437500, batch_loss : 1.946647\n",
      "50/89 batch_acc : 0.468750, batch_loss : 1.774615\n",
      "60/89 batch_acc : 0.500000, batch_loss : 1.875269\n",
      "70/89 batch_acc : 0.359375, batch_loss : 1.902607\n",
      "80/89 batch_acc : 0.453125, batch_loss : 1.990294\n",
      "================================================================================\n",
      "epoch: 5, train_loss: 1.832840, train_acc: 0.500351, val_acc: 0.510938\n",
      "================================================================================\n",
      "Training time for one epoch : 13.7\n",
      "\n",
      "Total training time : 74.9\n"
     ]
    }
   ],
   "source": [
    "att_trainer.run()"
   ]
  },
  {
   "cell_type": "code",
   "execution_count": 9,
   "metadata": {},
   "outputs": [],
   "source": [
    "tf.reset_default_graph()"
   ]
  },
  {
   "cell_type": "markdown",
   "metadata": {},
   "source": [
    "#### continue attention learning "
   ]
  },
  {
   "cell_type": "code",
   "execution_count": 10,
   "metadata": {},
   "outputs": [],
   "source": [
    "cont_att_config = Config()\n",
    "cont_att_config.data_path = \"/home/soma03/data/paris\"\n",
    "# cont_att_config.train_step = \"resnet_finetune\"\n",
    "cont_att_config.train_step = \"att_learning\"\n",
    "cont_att_config.save_name = 'local_ckpt/cont_att'\n",
    "cont_att_config.restore_file = 'local_ckpt/att_5'\n",
    "cont_att_config.nb_epoch = 3\n",
    "# cont_att_config.ckpt_type = 'resnet_ckpt'\n",
    "cont_att_config.ckpt_type = 'attention_ckpt'"
   ]
  },
  {
   "cell_type": "code",
   "execution_count": 11,
   "metadata": {},
   "outputs": [
    {
     "name": "stdout",
     "output_type": "stream",
     "text": [
      "[ check_train_dataset ] function : 0.001 s\n",
      "[ check_infer_dataset ] function : 0.000 s\n",
      "[ _label_to_int ] function : 0.001 s\n",
      "[ load_dataset ] function : 0.015 s\n",
      "[ number of file names ] = 6392\n",
      "[ classes ] = 12\n",
      "[ _parse_function ] function : 0.005 s\n",
      "[ _parse_function ] function : 0.004 s\n",
      "[ build_attention ] function : 1.393 s\n",
      "=== weights loaded === \n"
     ]
    }
   ],
   "source": [
    "cont_att_trainer = DelfTrainerV1(cont_att_config)"
   ]
  },
  {
   "cell_type": "code",
   "execution_count": null,
   "metadata": {},
   "outputs": [
    {
     "name": "stdout",
     "output_type": "stream",
     "text": [
      "= batches =: 89\n",
      "Starting epoch 1 / 3\n",
      "0/89 batch_acc : 0.531250, batch_loss : 1.711880\n",
      "10/89 batch_acc : 0.484375, batch_loss : 1.713839\n",
      "20/89 batch_acc : 0.546875, batch_loss : 1.635017\n",
      "30/89 batch_acc : 0.453125, batch_loss : 1.899761\n",
      "40/89 batch_acc : 0.468750, batch_loss : 1.828340\n",
      "50/89 batch_acc : 0.562500, batch_loss : 1.572291\n",
      "60/89 batch_acc : 0.500000, batch_loss : 1.726810\n",
      "70/89 batch_acc : 0.578125, batch_loss : 1.638733\n",
      "80/89 batch_acc : 0.546875, batch_loss : 1.568192\n"
     ]
    }
   ],
   "source": [
    "cont_att_trainer.run()"
   ]
  },
  {
   "cell_type": "code",
   "execution_count": null,
   "metadata": {},
   "outputs": [],
   "source": []
  }
 ],
 "metadata": {
  "kernelspec": {
   "display_name": "tensorflow",
   "language": "python",
   "name": "tensorflow"
  },
  "language_info": {
   "codemirror_mode": {
    "name": "ipython",
    "version": 3
   },
   "file_extension": ".py",
   "mimetype": "text/x-python",
   "name": "python",
   "nbconvert_exporter": "python",
   "pygments_lexer": "ipython3",
   "version": "3.6.7"
  }
 },
 "nbformat": 4,
 "nbformat_minor": 2
}
